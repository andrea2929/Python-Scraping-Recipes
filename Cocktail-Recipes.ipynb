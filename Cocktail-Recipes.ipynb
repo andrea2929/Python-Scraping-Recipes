{
 "cells": [
  {
   "cell_type": "markdown",
   "metadata": {},
   "source": [
    "# Test Code\n",
    "## With some tweaking I was able to make this work to collect cocktail recipes"
   ]
  },
  {
   "cell_type": "code",
   "execution_count": null,
   "metadata": {
    "collapsed": true
   },
   "outputs": [],
   "source": [
    "# Imports\n",
    "import requests\n",
    "import time\n",
    "from bs4 import BeautifulSoup\n",
    "import pandas as pd\n",
    "\n",
    "# Gather all the list urls\n",
    "page = []\n",
    "page.append(\"http://www.1001cocktails.com/recipes/most-popular-mixed-drinks.html\")\n",
    "\n",
    "for i in range(1,190):\n",
    "    page.append(\"http://www.1001cocktails.com/recipes/cocktails/cocktails_list_vu.php3?&start=\"+str(i*100))\n",
    "\n",
    "# Initialize variables\n",
    "drinks = [] # List of drinks as [drink_id, drink_name, drink_info]\n",
    "recipes = [] # List of recipe contents as [drink_id, amount, ingredient_name]\n",
    "    \n",
    "count = 1 # Just for keeping track of process\n",
    "    \n",
    "# Scrape from each page\n",
    "for url in page:\n",
    "    p = requests.get(url) # Get the content of the page\n",
    "    soup = BeautifulSoup(p.content, 'html.parser') # Format for BeautifulSoup to read\n",
    "    tags = soup.find_all('a') # Gather list of all links on the page\n",
    "\n",
    "    for tag in tags:\n",
    "            if(tag.find('u')): # If the link is underlined (only drinks are) get all the information\n",
    "                \n",
    "                # Add ingredients from drink page\n",
    "                drinks_page = requests.get('http://www.1001cocktails.com'+tag['href'])\n",
    "                drinks_soup = BeautifulSoup(drinks_page.content, 'html.parser')\n",
    "\n",
    "                drinks_tags = drinks_soup.find_all('td')\n",
    "                for td in drinks_tags:\n",
    "                    if (td.get_text().startswith(\"-\")):\n",
    "                        ingredient_name = td.find('a').get_text()\n",
    "                        recipes.append([len(drinks) + 1, td.get_text()[2:-(len(ingredient_name)+2)], ingredient_name])\n",
    "                        \n",
    "                # Add [id, drink] to list\n",
    "                drinks.append([len(drinks) + 1, tag.get_text()[1:], drinks_soup.find('p').get_text()])\n",
    "    \n",
    "    print(count)\n",
    "    count = count + 1"
   ]
  }
 ],
 "metadata": {
  "kernelspec": {
   "display_name": "Python 3",
   "language": "python",
   "name": "python3"
  },
  "language_info": {
   "codemirror_mode": {
    "name": "ipython",
    "version": 3
   },
   "file_extension": ".py",
   "mimetype": "text/x-python",
   "name": "python",
   "nbconvert_exporter": "python",
   "pygments_lexer": "ipython3",
   "version": "3.6.0"
  }
 },
 "nbformat": 4,
 "nbformat_minor": 2
}
