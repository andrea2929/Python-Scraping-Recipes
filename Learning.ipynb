{
 "cells": [
  {
   "cell_type": "code",
   "execution_count": 2,
   "metadata": {
    "collapsed": false
   },
   "outputs": [],
   "source": [
    "import requests\n",
    "\n",
    "URL = ''\n",
    "\n",
    "# I took the URL out, however I built a list of pages to scrape from\n",
    "page = []\n",
    "page.append(requests.get(URL))\n",
    "for i in range(1,109): \n",
    "    page.append(requests.get(URL + str(i)))"
   ]
  },
  {
   "cell_type": "code",
   "execution_count": 11,
   "metadata": {
    "collapsed": false
   },
   "outputs": [],
   "source": [
    "from bs4 import BeautifulSoup\n",
    "\n",
    "export = []\n",
    "\n",
    "for p in page:\n",
    "    soup = BeautifulSoup(p.content, 'html.parser')\n",
    "    tags = soup.find_all('a')\n",
    "    \n",
    "    names = []\n",
    "    ingredients = [[]]\n",
    "    x = 0\n",
    "\n",
    "    for tag in tags:\n",
    "        if(tag.find('u')):\n",
    "            names.append(tag.get_text()[1:])\n",
    "            ingredients.append([])\n",
    "            x=x+1\n",
    "        else:\n",
    "            ingredients[x].append(tag.get_text())\n",
    "  \n",
    "    ingredients = ingredients[1:] # Specific to data set, which started with a menu\n",
    "    \n",
    "    for i in range(1,len(names)):\n",
    "        export.append([names[i],ingredients[i]])"
   ]
  },
  {
   "cell_type": "code",
   "execution_count": 8,
   "metadata": {
    "collapsed": false
   },
   "outputs": [],
   "source": [
    "# Export to JSON file\n",
    "import json\n",
    "with open('data.json', 'w') as outfile:\n",
    "    json.dump(export, outfile)"
   ]
  },
  {
   "cell_type": "code",
   "execution_count": 12,
   "metadata": {
    "collapsed": false
   },
   "outputs": [
    {
     "data": {
      "text/plain": [
       "10791"
      ]
     },
     "execution_count": 12,
     "metadata": {},
     "output_type": "execute_result"
    }
   ],
   "source": [
    "# Check how many items were collected\n",
    "len(export)"
   ]
  },
  {
   "cell_type": "code",
   "execution_count": null,
   "metadata": {
    "collapsed": true
   },
   "outputs": [],
   "source": []
  }
 ],
 "metadata": {
  "kernelspec": {
   "display_name": "Python 3",
   "language": "python",
   "name": "python3"
  },
  "language_info": {
   "codemirror_mode": {
    "name": "ipython",
    "version": 3
   },
   "file_extension": ".py",
   "mimetype": "text/x-python",
   "name": "python",
   "nbconvert_exporter": "python",
   "pygments_lexer": "ipython3",
   "version": "3.6.0"
  }
 },
 "nbformat": 4,
 "nbformat_minor": 2
}
